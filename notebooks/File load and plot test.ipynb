{
 "cells": [
  {
   "cell_type": "code",
   "execution_count": 1,
   "id": "2e13781e",
   "metadata": {},
   "outputs": [],
   "source": [
    "import sys\n",
    "sys.path.append('../')\n",
    "\n",
    "from src.load_jules_output_file import load_jules_output_file_xarray"
   ]
  },
  {
   "cell_type": "code",
   "execution_count": 2,
   "id": "230457a2",
   "metadata": {},
   "outputs": [
    {
     "name": "stdout",
     "output_type": "stream",
     "text": [
      "/Users/jb14389/Desktop/JULES/data/data_runs/stomatal_optimisation_runs/testing/FI_Lom-fsmc_comp.H.nc\n"
     ]
    }
   ],
   "source": [
    "folder = \"/Users/jb14389/Desktop/JULES/data/data_runs/stomatal_optimisation_runs/testing/\"\n",
    "file_name = \"FI_Lom-fsmc_comp.H.nc\"\n",
    "\n",
    "\n",
    "file_address = folder + file_name\n",
    "\n",
    "print(file_address)"
   ]
  },
  {
   "cell_type": "code",
   "execution_count": 3,
   "id": "d065b77d",
   "metadata": {},
   "outputs": [],
   "source": [
    "data = load_jules_output_file_xarray(file_address)"
   ]
  },
  {
   "cell_type": "code",
   "execution_count": 4,
   "id": "1f966b89",
   "metadata": {},
   "outputs": [
    {
     "name": "stdout",
     "output_type": "stream",
     "text": [
      "<xarray.Dataset>\n",
      "Dimensions:                (time: 26256, nt: 2, y: 1, x: 1, pft: 9, soil: 4)\n",
      "Coordinates:\n",
      "  * time                   (time) datetime64[ns] 2007-01-01T01:00:00 ... 2009...\n",
      "    latitude               (y, x) float32 ...\n",
      "    longitude              (y, x) float32 ...\n",
      "Dimensions without coordinates: nt, y, x, pft, soil\n",
      "Data variables: (12/26)\n",
      "    time_bounds            (time, nt) datetime64[ns] ...\n",
      "    gpp_gb                 (time, y, x) float32 ...\n",
      "    resp_p_gb              (time, y, x) float32 ...\n",
      "    resp_s_gb              (time, y, x) float32 ...\n",
      "    ftl_gb                 (time, y, x) float32 ...\n",
      "    latent_heat            (time, y, x) float32 ...\n",
      "    ...                     ...\n",
      "    soil_root_k            (time, soil, y, x) float32 ...\n",
      "    psi_root_zone_pft      (time, pft, y, x) float32 ...\n",
      "    et_stom_gb             (time, y, x) float32 ...\n",
      "    psi_leaf_pft           (time, pft, y, x) float32 ...\n",
      "    som_transpiration_pft  (time, pft, y, x) float32 ...\n",
      "    cica_ratio_pft         (time, pft, y, x) float32 ...\n"
     ]
    }
   ],
   "source": [
    "print(data)"
   ]
  },
  {
   "cell_type": "code",
   "execution_count": null,
   "id": "5fa1efa5",
   "metadata": {},
   "outputs": [],
   "source": []
  }
 ],
 "metadata": {
  "kernelspec": {
   "display_name": "Python 3 (ipykernel)",
   "language": "python",
   "name": "python3"
  },
  "language_info": {
   "codemirror_mode": {
    "name": "ipython",
    "version": 3
   },
   "file_extension": ".py",
   "mimetype": "text/x-python",
   "name": "python",
   "nbconvert_exporter": "python",
   "pygments_lexer": "ipython3",
   "version": "3.11.6"
  }
 },
 "nbformat": 4,
 "nbformat_minor": 5
}
